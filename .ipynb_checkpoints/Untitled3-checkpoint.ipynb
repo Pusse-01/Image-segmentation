{
 "cells": [
  {
   "cell_type": "code",
   "execution_count": 2,
   "id": "8ca477a9",
   "metadata": {},
   "outputs": [],
   "source": [
    "import cv2\n",
    "import numpy as np\n",
    "image=cv2.imread('Drawing.jpg')\n",
    "gray=cv2.cvtColor(image,cv2.COLOR_BGR2GRAY)\n",
    "cv2.imshow('original image',image)\n",
    "ret, thresh=cv2.threshold(gray,176,255,0)\n",
    "contours, hierarchy=cv2.findContours(thresh.copy(),cv2.RETR_LIST,cv2.CHAIN_APPROX_NONE)\n",
    "\n",
    "n=len(contours)-1\n",
    "contours=sorted(contours,key=cv2.contourArea,reverse=True)[:n]\n",
    "\n",
    "for c in contours:\n",
    "    hull=cv2.convexHull(c)\n",
    "    cv2.drawContours(image,[hull],0,(0,255,0),2)\n",
    "cv2.imshow('convex hull',image)\n",
    "cv2.imwrite('image.jpg', image)\n",
    "cv2.waitKey(0)\n",
    "cv2.destroyAllWindows()"
   ]
  },
  {
   "cell_type": "code",
   "execution_count": null,
   "id": "805574c3",
   "metadata": {},
   "outputs": [],
   "source": []
  }
 ],
 "metadata": {
  "kernelspec": {
   "display_name": "Python 3",
   "language": "python",
   "name": "python3"
  },
  "language_info": {
   "codemirror_mode": {
    "name": "ipython",
    "version": 3
   },
   "file_extension": ".py",
   "mimetype": "text/x-python",
   "name": "python",
   "nbconvert_exporter": "python",
   "pygments_lexer": "ipython3",
   "version": "3.9.6"
  },
  "vscode": {
   "interpreter": {
    "hash": "9bb7a8ecefdb9b86f4c0b9815cbf7b3c590940fd8fd677e3db3add49a3085a09"
   }
  }
 },
 "nbformat": 4,
 "nbformat_minor": 5
}
