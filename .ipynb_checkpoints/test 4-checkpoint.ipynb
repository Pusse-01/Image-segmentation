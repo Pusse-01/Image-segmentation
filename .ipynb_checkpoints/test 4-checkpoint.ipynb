{
 "cells": [
  {
   "cell_type": "code",
   "execution_count": 4,
   "id": "978735ef",
   "metadata": {},
   "outputs": [
    {
     "ename": "ValueError",
     "evalue": "not enough values to unpack (expected 3, got 2)",
     "output_type": "error",
     "traceback": [
      "\u001b[1;31m---------------------------------------------------------------------------\u001b[0m",
      "\u001b[1;31mValueError\u001b[0m                                Traceback (most recent call last)",
      "\u001b[1;32md:\\freelance\\Image-segmentation\\.ipynb_checkpoints\\test 4-checkpoint.ipynb Cell 1\u001b[0m in \u001b[0;36m<cell line: 11>\u001b[1;34m()\u001b[0m\n\u001b[0;32m      <a href='vscode-notebook-cell:/d%3A/freelance/Image-segmentation/.ipynb_checkpoints/test%204-checkpoint.ipynb#W0sZmlsZQ%3D%3D?line=7'>8</a>\u001b[0m gray \u001b[39m=\u001b[39m cv2\u001b[39m.\u001b[39mcvtColor(img, cv2\u001b[39m.\u001b[39mCOLOR_BGR2GRAY)\n\u001b[0;32m     <a href='vscode-notebook-cell:/d%3A/freelance/Image-segmentation/.ipynb_checkpoints/test%204-checkpoint.ipynb#W0sZmlsZQ%3D%3D?line=9'>10</a>\u001b[0m ret, threshed_img \u001b[39m=\u001b[39m cv2\u001b[39m.\u001b[39mthreshold(gray, \u001b[39m127\u001b[39m, \u001b[39m255\u001b[39m, cv2\u001b[39m.\u001b[39mTHRESH_BINARY)\n\u001b[1;32m---> <a href='vscode-notebook-cell:/d%3A/freelance/Image-segmentation/.ipynb_checkpoints/test%204-checkpoint.ipynb#W0sZmlsZQ%3D%3D?line=10'>11</a>\u001b[0m image, contours, hier \u001b[39m=\u001b[39m cv2\u001b[39m.\u001b[39mfindContours(threshed_img, cv2\u001b[39m.\u001b[39mRETR_EXTERNAL,cv2\u001b[39m.\u001b[39mCHAIN_APPROX_NONE)\n\u001b[0;32m     <a href='vscode-notebook-cell:/d%3A/freelance/Image-segmentation/.ipynb_checkpoints/test%204-checkpoint.ipynb#W0sZmlsZQ%3D%3D?line=12'>13</a>\u001b[0m \u001b[39m#--- Black image to be used to draw individual convex hull ---\u001b[39;00m\n\u001b[0;32m     <a href='vscode-notebook-cell:/d%3A/freelance/Image-segmentation/.ipynb_checkpoints/test%204-checkpoint.ipynb#W0sZmlsZQ%3D%3D?line=13'>14</a>\u001b[0m black \u001b[39m=\u001b[39m np\u001b[39m.\u001b[39mzeros_like(img)\n",
      "\u001b[1;31mValueError\u001b[0m: not enough values to unpack (expected 3, got 2)"
     ]
    }
   ],
   "source": [
    "import cv2\n",
    "import numpy as np\n",
    "\n",
    "img = cv2.imread('Drawing.jpg', -1)\n",
    "img2 = img.copy()\n",
    "# cv2.imshow(img)\n",
    "\n",
    "gray = cv2.cvtColor(img, cv2.COLOR_BGR2GRAY)\n",
    "\n",
    "ret, threshed_img = cv2.threshold(gray, 127, 255, cv2.THRESH_BINARY)\n",
    "image, contours, hier = cv2.findContours(threshed_img, cv2.RETR_EXTERNAL,cv2.CHAIN_APPROX_NONE)\n",
    "\n",
    "#--- Black image to be used to draw individual convex hull ---\n",
    "black = np.zeros_like(img)\n",
    "cv2.imshow(black)\n",
    "\n",
    "contours = sorted(contours, key=lambda ctr: cv2.boundingRect(ctr)[0]) #added by OP : this sorts contours left to right, so images come in order\n",
    "\n",
    "for cnt in contours:\n",
    "    hull = cv2.convexHull(cnt)\n",
    "\n",
    "    img3 = img.copy()\n",
    "    black2 = black.copy()\n",
    "\n",
    "    #--- Here is where I am filling the contour after finding the convex hull ---\n",
    "    cv2.drawContours(black2, [hull], -1, (255, 255, 255), -1)\n",
    "    g2 = cv2.cvtColor(black2, cv2.COLOR_BGR2GRAY)\n",
    "    r, t2 = cv2.threshold(g2, 127, 255, cv2.THRESH_BINARY)\n",
    "    cv2.imshow( t2)\n",
    "\n",
    "    masked = cv2.bitwise_and(img2, img2, mask = t2)    \n",
    "    cv2.imshow(masked)\n",
    "\n",
    "    print(len(hull))\n",
    "    cv2.waitKey(0)\n",
    "\n",
    "cv2.destroyAllWindows()"
   ]
  },
  {
   "cell_type": "code",
   "execution_count": null,
   "id": "e7ef4290",
   "metadata": {},
   "outputs": [],
   "source": []
  }
 ],
 "metadata": {
  "kernelspec": {
   "display_name": "Python 3",
   "language": "python",
   "name": "python3"
  },
  "language_info": {
   "codemirror_mode": {
    "name": "ipython",
    "version": 3
   },
   "file_extension": ".py",
   "mimetype": "text/x-python",
   "name": "python",
   "nbconvert_exporter": "python",
   "pygments_lexer": "ipython3",
   "version": "3.9.6"
  },
  "vscode": {
   "interpreter": {
    "hash": "9bb7a8ecefdb9b86f4c0b9815cbf7b3c590940fd8fd677e3db3add49a3085a09"
   }
  }
 },
 "nbformat": 4,
 "nbformat_minor": 5
}
