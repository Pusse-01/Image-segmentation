{
 "cells": [
  {
   "cell_type": "code",
   "execution_count": 52,
   "id": "fbd13761",
   "metadata": {},
   "outputs": [
    {
     "name": "stdout",
     "output_type": "stream",
     "text": [
      "Numbers of contours found=1337\n"
     ]
    }
   ],
   "source": [
    "import cv2\n",
    "import numpy as np\n",
    "import matplotlib.pyplot as plt\n",
    "image=cv2.imread('2.jpg')\n",
    "\n",
    "gray=cv2.cvtColor(image,cv2.COLOR_BGR2GRAY)\n",
    "#cv2.imshow('original image',image)\n",
    "ret, thresh=cv2.threshold(gray,176,255,0)\n",
    "contours, hierarchy = cv2.findContours(thresh.copy(), cv2.RETR_CCOMP, cv2.CHAIN_APPROX_NONE)\n",
    "n=len(contours)-1\n",
    "contours=sorted(contours,key=cv2.contourArea,reverse=False)[:n]\n",
    "\n",
    "#print(contours)\n",
    "print('Numbers of contours found=' + str(len(contours)))"
   ]
  },
  {
   "cell_type": "code",
   "execution_count": 59,
   "id": "c3c46103",
   "metadata": {},
   "outputs": [],
   "source": [
    "\n",
    "for c in range(len(contours)):\n",
    "    # Since the image only has one contour, grab the first contour\n",
    "    # Get the required hull\n",
    "    cnt = contours[c]\n",
    "\n",
    "    # Get the required hull\n",
    "    hull = cv2.convexHull(cnt)\n",
    " \n",
    "    # draw the hull\n",
    "    cv2.drawContours(hull_img, [hull], 0 , (0,220,0), 1) \n",
    " \n",
    "    # draw the contour\n",
    "    cv2.drawContours(contour_img, [cnt], 0, (0,0,220), 1)\n",
    "    #cv2.imshow('Contours with bounding box', image)\n",
    "for c in contours:\n",
    "    # compute the center of the contour\n",
    "    M = cv2.moments(c)\n",
    "    if M[\"m00\"] != 0:\n",
    "        cX = int(M[\"m10\"] / M[\"m00\"])\n",
    "        cY = int(M[\"m01\"] / M[\"m00\"])\n",
    "    else:\n",
    "        # set values as what you need in the situation\n",
    "        cX, cY = 0, 0\n",
    "\n",
    "cv2.imshow('Contours with bounding box', contour_img )\n",
    "cv2.waitKey(0)\n",
    "cv2.destroyAllWindows()\n",
    "cv2.imshow('Contours with bounding box', hull_img)\n",
    "cv2.waitKey(0)\n",
    "cv2.destroyAllWindows()"
   ]
  },
  {
   "cell_type": "code",
   "execution_count": 58,
   "id": "c963c674",
   "metadata": {},
   "outputs": [],
   "source": [
    "for c in contours:\n",
    "    hull=cv2.convexHull(c)\n",
    "    cv2.drawContours(image,[hull],0,(0,255,0),2)\n",
    "cv2.imshow('convex hull',image)\n",
    "cv2.waitKey(0)\n",
    "cv2.destroyAllWindows()"
   ]
  },
  {
   "cell_type": "code",
   "execution_count": 60,
   "id": "bc090be0",
   "metadata": {},
   "outputs": [],
   "source": [
    "# loop over the contours\n",
    "for c in hull:\n",
    "    # compute the center of the contour\n",
    "    M = cv2.moments(c)\n",
    "    if M[\"m00\"] != 0:\n",
    "        cX = int(M[\"m10\"] / M[\"m00\"])\n",
    "        cY = int(M[\"m01\"] / M[\"m00\"])\n",
    "    else:\n",
    "        # set values as what you need in the situation\n",
    "        cX, cY = 0, 0\n",
    "    # draw the contour and center of the shape on the image\n",
    "    #cv2.drawContours(image, [c], -1, (0, 255, 0), 2)\n",
    "    cv2.circle(image, (cX, cY), 4, (0,0, 255), -1)\n",
    "    cv2.putText(image, \"center\", (cX - 20, cY - 20),\n",
    "        cv2.FONT_HERSHEY_SIMPLEX, 0.5, (255, 0, 0), 1)\n",
    "    # show the image\n",
    "cv2.imshow(\"Image\", image)\n",
    "cv2.waitKey(0)\n",
    "cv2.destroyAllWindows()"
   ]
  },
  {
   "cell_type": "code",
   "execution_count": null,
   "id": "f4365a43",
   "metadata": {},
   "outputs": [],
   "source": []
  },
  {
   "cell_type": "code",
   "execution_count": 3,
   "id": "c9da071f",
   "metadata": {},
   "outputs": [],
   "source": []
  }
 ],
 "metadata": {
  "kernelspec": {
   "display_name": "Python 3",
   "language": "python",
   "name": "python3"
  },
  "language_info": {
   "codemirror_mode": {
    "name": "ipython",
    "version": 3
   },
   "file_extension": ".py",
   "mimetype": "text/x-python",
   "name": "python",
   "nbconvert_exporter": "python",
   "pygments_lexer": "ipython3",
   "version": "3.8.8"
  }
 },
 "nbformat": 4,
 "nbformat_minor": 5
}
